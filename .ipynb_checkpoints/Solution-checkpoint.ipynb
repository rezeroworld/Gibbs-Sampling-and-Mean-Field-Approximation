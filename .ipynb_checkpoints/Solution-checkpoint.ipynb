{
 "cells": [
  {
   "cell_type": "markdown",
   "metadata": {
    "id": "eKIz_ttKiG_1"
   },
   "source": [
    "# IFT6269 - Homework 5 - Sampling Methods\n",
    "**Due:**  Tuesday, December 15, 2020"
   ]
  },
  {
   "cell_type": "markdown",
   "metadata": {
    "id": "whO8SD53Y9Vl"
   },
   "source": [
    "### Resources\n",
    "https://www.stat.berkeley.edu/~mjwain/Fall2012_Stat241a/hw6_soln_stat241a.pdf"
   ]
  },
  {
   "cell_type": "code",
   "execution_count": null,
   "metadata": {
    "id": "S3gk4JHNY9yW"
   },
   "outputs": [],
   "source": [
    "import numpy as np\n",
    "import tqdm\n",
    "np.random.seed(0)\n",
    "np.set_printoptions(precision=5, suppress=True)\n",
    "import matplotlib.pyplot as plt\n",
    "plt.style.use('seaborn-white')\n",
    "from scipy import special\n",
    "\n",
    "# ---------------------------------------------------------------------------\n",
    "#                       Code for plotting the results \n",
    "#                      ! DO NOT MODIFY THIS FUNCTION !\n",
    "# ---------------------------------------------------------------------------\n",
    "\n",
    "def show_matrix(A):\n",
    "    matfig = plt.figure(figsize=(5,5))\n",
    "    plt.matshow(A, cmap=plt.cm.gray, fignum=matfig.number)\n",
    "    plt.colorbar()\n",
    "    plt.show()\n",
    "\n",
    "def plot_list(data, title=\"\"):\n",
    "    plt.figure(figsize=(5,2))\n",
    "    plt.plot(data)\n",
    "    plt.title(title)\n",
    "    plt.show()"
   ]
  },
  {
   "cell_type": "markdown",
   "metadata": {
    "id": "huBL0znH4Tii"
   },
   "source": [
    "## Tasks\n",
    "\n",
    "0. Get your own copy of this file via \"File > Save a copy in Drive...\",\n",
    "1. Fill your personal information and collaborators at the top of this assignment, and rename the notebook accordingly, e.g., `hw5_thomasBayes.ipynb`\n",
    "2. Read the instructions provided on each section and cell carefully,\n",
    "5. Complete the coding exercises in sections **Gibbs sampling** and **Mean field**.\n",
    "    \n",
    "**Important**: You are allowed to collaborate with other students in both the math and coding parts of this assignment. However, the answers provided here must reflect your individual work. For that reason, you are not allowed to share this notebook, except for your submission to the TA for grading. **Don't forget to pin and save the version of the notebook you want to be graded on!**"
   ]
  },
  {
   "cell_type": "markdown",
   "metadata": {
    "id": "02fg3bxiZOMv"
   },
   "source": [
    "## Problem setting\n",
    "\n",
    "Consider the Ising model with binary variables $X_s \\in \\{0,1\\}$ and a factorization of the form:\n",
    "$$\n",
    "p(x; \\eta) = \\frac{1}{Z_p} \\exp \\left( \\sum_{s \\in V} \\eta_s x_s + \\sum_{\\{s,t\\} \\in E} \\eta_{st} x_s x_t \\right).\n",
    "$$\n",
    "We consider the 7 $\\times$7 two-dimensional grid as shown below. Note that we used toroidal (donut-like) boundary conditions to make the problem symmetric. We will consider approximate inference methods to approximate the node marginal moments $\\mu_s := p(X_s = 1)$ in this model."
   ]
  },
  {
   "cell_type": "markdown",
   "metadata": {
    "id": "x8LmEnRW4Py-"
   },
   "source": [
    "<center><img src=\"https://imgur.com/Q1u6m5U.png\" alt=\"drawing\" width=\"350\"/>\n"
   ]
  },
  {
   "cell_type": "markdown",
   "metadata": {
    "id": "00t_9oRp8C4q"
   },
   "source": [
    "## Gibbs sampling\n",
    "\n",
    "**Implementation**\n",
    "\n",
    "Using the update equations you found in the theoretical part of the assignment, implement the Gibbs sampling algorithm (with cyclic sequential traversal of the nodes) for $\\eta_{st} = 0.5$ for all edges, and $\\eta_s = (-1)^s$ for all $s \\in \\{1, \\ldots, 49\\}$ (using the node ordering in the figure)."
   ]
  },
  {
   "cell_type": "code",
   "execution_count": null,
   "metadata": {
    "id": "Lfg_B1ydOy9B"
   },
   "outputs": [],
   "source": [
    "def int_to_coordinates(i):\n",
    "  y = int(i/7)\n",
    "  x = i - y*7\n",
    "  return x, y\n",
    "\n",
    "def neighbors(i):\n",
    "  x, y = int_to_coordinates(i)\n",
    "  coor = ([(x+1) % 7, (x-1) % 7, x, x], [y, y, (y+1) % 7, (y-1) % 7])\n",
    "  return coor\n",
    "\n",
    "def sample(probas):\n",
    "  sample = np.zeros(shape=49)\n",
    "  probas_f = probas.flatten()\n",
    "  for i in range(len(probas_f)):\n",
    "    sample[i] = np.random.binomial(1,p=probas_f[i])\n",
    "  return sample.reshape(7,7)\n",
    "\n",
    "def sample_uni(proba):\n",
    "  return np.random.binomial(1,p=proba)"
   ]
  },
  {
   "cell_type": "code",
   "execution_count": null,
   "metadata": {
    "id": "MGrnP8TdnvcA"
   },
   "outputs": [],
   "source": [
    "def gibbs_sampling(X0, burn_in, num_epochs):\n",
    "\n",
    "    \"\"\"\n",
    "    Performs Gibbs sampling on the UGM\n",
    "        \n",
    "        Inputs:\n",
    "            X0: [7 x 7] matrix representing the initial state of the grid shown \n",
    "               in the picture. X[0, 0] is the variable numbered 1.\n",
    "            burn_in: [int] burn-in period\n",
    "            num_epochs: [int] number of epochs (one epoch amounts to updating \n",
    "               *each* node once)\n",
    "            \n",
    "        Returns:\n",
    "            samples: [num_epochs x 7 x 7] tensor of generated samples for each \n",
    "                of the epochs after the burn-in period. Here this corresponds to\n",
    "                num-epoch matrices of size 7 x 7.\n",
    "    \"\"\"\n",
    "    \n",
    "    # TODO: Don't forget to include these. It's okay to hardcode values here. No \n",
    "    # need to pass them as function parameters.\n",
    "    eta_s = ((-1 * np.ones(shape=49))**(np.arange(1,50))).reshape(7,7)\n",
    "    eta_st = 0.5\n",
    "    samples = X0\n",
    "    probas = np.zeros_like(X0)\n",
    "    \n",
    "    for i in range(burn_in):\n",
    "      for j in range(49):\n",
    "        samples_t_1 = samples.copy()\n",
    "        x, y = int_to_coordinates(j)\n",
    "        probas[x,y] = special.expit(eta_s[x, y] + np.sum(eta_st * samples_t_1[neighbors(j)]))\n",
    "      samples = sample(probas)\n",
    "\n",
    "    samples = samples[np.newaxis, :]\n",
    "\n",
    "    for i in range(num_epochs):\n",
    "      for j in range(49):\n",
    "        samples_t_1 = samples[-1].copy()\n",
    "        x, y = int_to_coordinates(j)\n",
    "        probas[x,y] = special.expit(eta_s[x, y] + np.sum(eta_st * samples_t_1[neighbors(j)]))\n",
    "      samples_ = sample(probas)\n",
    "      samples = np.append(samples, samples_[np.newaxis,:],  axis=0)\n",
    "\n",
    "    return samples"
   ]
  },
  {
   "cell_type": "markdown",
   "metadata": {
    "id": "ybLFB3RJ862v"
   },
   "source": [
    "**Execution**\n",
    "\n",
    "Run a *burn-in period* of 1000 epochs (where **one epoch amounts to updating each node once**). For each of the 5000 *subsequent epochs*, collect a sample vector. Use the 5000 samples to form Monte Carlo estimates $\\hat{\\mu}_s$ of the moments $\\mathbb{E}[X_s]$ at each node. Create a $7 \\times 7$ matrix of the estimated moments.\n",
    "\n",
    "---\n",
    "\n",
    "\n",
    "**Note:** We mentioned in class that every update of a node yields a *different* sample in theory, and that one should normally use *all* the available samples (after sufficient mixing) for a Monte Carlo estimate. In this case, that would be $49$ (one for each individual node update) times $5000$ epochs. But note that using all these samples would give almost the exact same estimates, only differing from the boundary conditions during the first and last epoch. Do NOT use the 49x5000 different samples!"
   ]
  },
  {
   "cell_type": "code",
   "execution_count": null,
   "metadata": {
    "colab": {
     "base_uri": "https://localhost:8080/",
     "height": 428
    },
    "id": "D7rT9Rfi88sy",
    "outputId": "25442e7a-491a-4df2-8d39-dfe5cde5e03f"
   },
   "outputs": [
    {
     "name": "stdout",
     "output_type": "stream",
     "text": [
      "[[0.62967 0.91762 0.66487 0.91102 0.67087 0.91162 0.63187]\n",
      " [0.91822 0.69806 0.91422 0.68466 0.90682 0.69746 0.91902]\n",
      " [0.66067 0.90902 0.69746 0.90602 0.68806 0.90542 0.66727]\n",
      " [0.91482 0.69146 0.90682 0.69866 0.90542 0.68786 0.91602]\n",
      " [0.66667 0.90562 0.68806 0.91662 0.69646 0.90702 0.66687]\n",
      " [0.91322 0.70026 0.90562 0.68826 0.91162 0.68906 0.90542]\n",
      " [0.62927 0.90822 0.65887 0.91562 0.66587 0.91062 0.62388]]\n"
     ]
    },
    {
     "data": {
      "image/png": "[encoded data removed]",
      "text/plain": [
       "<Figure size 360x360 with 2 Axes>"
      ]
     },
     "metadata": {
      "needs_background": "light",
      "tags": []
     },
     "output_type": "display_data"
    }
   ],
   "source": [
    "# Keep this initialization scheme\n",
    "X0 = 1.0 * (np.random.rand(7, 7) > 0.5)\n",
    "\n",
    "# We run your Gibbs sampling function\n",
    "samples = gibbs_sampling(X0, burn_in=1000, num_epochs=5000)\n",
    "\n",
    "# TODO: Use the samples to perform the Monte Carlo estimates for \\hat{mu}_s\n",
    "mu_hat = np.mean(samples, axis=0)\n",
    "\n",
    "# Do NOT change these last two lines\n",
    "print(mu_hat)\n",
    "show_matrix(mu_hat)"
   ]
  },
  {
   "cell_type": "markdown",
   "metadata": {
    "id": "daXJOP0d89VG"
   },
   "source": [
    "Repeat the experiment $10$ times and output a $7 \\times 7$ matrix of the empirical standard deviation of your estimate at each node (this gives an idea of the variability of your estimates)."
   ]
  },
  {
   "cell_type": "code",
   "execution_count": null,
   "metadata": {
    "colab": {
     "base_uri": "https://localhost:8080/"
    },
    "id": "bjTN-35I_LOv",
    "outputId": "906d0893-55ab-4b0f-8844-6872ddd8f710"
   },
   "outputs": [
    {
     "name": "stdout",
     "output_type": "stream",
     "text": [
      "[[0.00461 0.0034  0.00401 0.00197 0.00454 0.00362 0.00771]\n",
      " [0.00439 0.0068  0.00418 0.0064  0.00675 0.0067  0.00441]\n",
      " [0.00699 0.00365 0.00518 0.00414 0.00491 0.00535 0.00311]\n",
      " [0.00528 0.00397 0.00454 0.00462 0.00239 0.00741 0.00362]\n",
      " [0.00566 0.005   0.00568 0.00579 0.00437 0.00298 0.00983]\n",
      " [0.00479 0.00746 0.00321 0.00806 0.00351 0.00439 0.00393]\n",
      " [0.00579 0.00303 0.00548 0.00309 0.00574 0.0049  0.00625]]\n"
     ]
    }
   ],
   "source": [
    "samples_10 = np.empty(shape=(10,7,7))\n",
    "for trial in range(10):\n",
    "    samples_10[trial] = np.mean(gibbs_sampling(X0, burn_in=1000, num_epochs=5000), axis=0)\n",
    "    \n",
    "# TODO: use the result of your 10 trials to compute the empirical standard deviation\n",
    "# of your estimate at each node\n",
    "mu_hat_std = np.std(samples_10, axis=0)\n",
    "\n",
    "# Do NOT change this last line\n",
    "print(mu_hat_std)"
   ]
  },
  {
   "cell_type": "markdown",
   "metadata": {
    "id": "riXUmhPj9f2C"
   },
   "source": [
    "## Mean field\n",
    "\n",
    "**Implementation**\n",
    "\n",
    "Implement the mean field updates you derived in the theoretical part for the same mode. Use the same $\\eta_s$ and $\\eta_{st}$ as above. Recall we use the notation $q(X_s =1) = \\tau_s$. More specifically, do cyclic coordinate descent on $KL(q || p)$, sequentially updating the parameter $\\tau_s \\in [0,1]$ for $s \\in \\{1, \\ldots, 49\\}$. \n",
    "\n",
    "Let $d(\\tau, \\tau'):= \\frac{1}{49} \\sum_{s=1}^{49} |\\tau_s - \\tau'_s|$ be the average $\\ell_1$ distance between two parameters. Use $d(\\tau^{(k-1)}, \\tau^{k}) <  0.001$ as a stopping criterion for convergence, where $k$ counts the number of **epochs**.  Compute $KL(q || p)-\\log(Z_p)$ as a function of the number of epochs both for debugging purpose and monitor progress. "
   ]
  },
  {
   "cell_type": "code",
   "execution_count": null,
   "metadata": {
    "id": "xO0HUJtYA8q3"
   },
   "outputs": [],
   "source": [
    "def distance(tau, tau_prime):\n",
    "    \"\"\"\n",
    "    Computes the average l_1 distance between two parameter configurations\n",
    "    \"\"\"\n",
    "    d = np.mean(np.abs(tau - tau_prime))\n",
    "    return d\n",
    "    \n",
    "def kl_minus_log(tau):\n",
    "    \"\"\"\n",
    "    Computes KL(q(tau) || p) - log(Z_p)\n",
    "    \"\"\"\n",
    "    eta_st = 0.5\n",
    "    eta_s = ((-1 * np.ones(shape=49))**(np.arange(1,50))).reshape(7,7)\n",
    "    neighbors_i = 0\n",
    "\n",
    "    entropy = (tau * np.log(tau) + (1-tau)*np.log(1-tau)).sum()\n",
    "    node_i = (tau.flatten()*eta_s.flatten()).sum()\n",
    "\n",
    "    for i in range(49):\n",
    "      neighbors_i += (eta_st * tau[neighbors(i)] * tau[int_to_coordinates(i)]).sum()/2\n",
    "\n",
    "    return entropy - (node_i + neighbors_i)\n",
    "    \n",
    "def mean_field(tau0, dist_tol):\n",
    "\n",
    "    \"\"\"\n",
    "    Mean field approximation for the UGM\n",
    "        \n",
    "        Inputs:\n",
    "            tau0: [7 x 7] matrix representing the initial value of the parameters\n",
    "               tau_s for each state of the grid shown in the picture. tau[0, 0] \n",
    "               is the parameter associated to the variable numbered 1.\n",
    "            dist_tol: [float] tolerance between epochs. If change in parameter \n",
    "               between two subsequent *epochs* is less than dist_tol, stop.\n",
    "            \n",
    "        Returns:\n",
    "            tau: [7 x 7] matrix of parameters at convergence.\n",
    "            d_hist: [list] list of parameter distance between subsequent epochs.\n",
    "                d_hist[0] = d(tau_0, tau_1) and so on.\n",
    "            kl_hist: [list] list containing KL(q||p) - log(Z_p).\n",
    "                kl_m_log[0] = KL(q(tau_0)||p) - log(Z_p) and so on.\n",
    "    \"\"\"\n",
    "    \n",
    "    # TODO: Don't forget to include these. It's okay to hardcode values here. No \n",
    "    # need to pass them as function parameters.\n",
    "    eta_s = ((-1 * np.ones(shape=49))**(np.arange(1,50))).reshape(7,7)\n",
    "    eta_st = 0.5\n",
    "\n",
    "    # TODO\n",
    "    tau = tau0\n",
    "    d_hist = []\n",
    "    kl_hist = [kl_minus_log(tau)]\n",
    "\n",
    "    while True:\n",
    "      tau_t_1 = tau.copy()\n",
    "      for i in range(49):\n",
    "        x,y = int_to_coordinates(i)\n",
    "        tau[x, y] = special.expit(eta_s[x, y] + np.sum(eta_st * tau[neighbors(i)]))\n",
    "\n",
    "      d_hist.append(distance(tau, tau_t_1))\n",
    "      kl_hist.append(kl_minus_log(tau))\n",
    "      if d_hist[-1] <= dist_tol:\n",
    "        break\n",
    "    \n",
    "    return tau, d_hist, kl_hist"
   ]
  },
  {
   "cell_type": "markdown",
   "metadata": {
    "id": "8J6_RT61HHBi"
   },
   "source": [
    "**Execution**\n",
    "\n",
    "Run your algorithm and plot the mean field estimated moments. Plot the behavior of $d(\\tau^{(k-1)}, \\tau^{k})$ and $KL(q(\\tau^k) || p) -\\log(Z_p)$."
   ]
  },
  {
   "cell_type": "code",
   "execution_count": null,
   "metadata": {
    "colab": {
     "base_uri": "https://localhost:8080/",
     "height": 730
    },
    "id": "BNRi2byGJlAt",
    "outputId": "74dec148-b7b8-48c5-c8e3-0e3662f52f97"
   },
   "outputs": [
    {
     "name": "stdout",
     "output_type": "stream",
     "text": [
      "[[0.63576 0.92152 0.67162 0.92284 0.67164 0.92153 0.63583]\n",
      " [0.92152 0.69778 0.91541 0.69738 0.91542 0.69781 0.92153]\n",
      " [0.67162 0.91541 0.6967  0.91635 0.69671 0.91542 0.67166]\n",
      " [0.92284 0.69738 0.91635 0.6969  0.91635 0.69741 0.92285]\n",
      " [0.67164 0.91542 0.69671 0.91635 0.69672 0.91543 0.67166]\n",
      " [0.92153 0.69781 0.91542 0.69741 0.91543 0.69782 0.92154]\n",
      " [0.63583 0.92153 0.67166 0.92285 0.67166 0.92154 0.63584]]\n"
     ]
    },
    {
     "data": {
      "image/png": "[encoded data removed]",
      "text/plain": [
       "<Figure size 360x360 with 2 Axes>"
      ]
     },
     "metadata": {
      "needs_background": "light",
      "tags": []
     },
     "output_type": "display_data"
    },
    {
     "data": {
      "image/png": "[encoded data removed]",
      "text/plain": [
       "<Figure size 360x144 with 1 Axes>"
      ]
     },
     "metadata": {
      "needs_background": "light",
      "tags": []
     },
     "output_type": "display_data"
    },
    {
     "data": {
      "image/png": "[encoded data removed]",
      "text/plain": [
       "<Figure size 360x144 with 1 Axes>"
      ]
     },
     "metadata": {
      "needs_background": "light",
      "tags": []
     },
     "output_type": "display_data"
    }
   ],
   "source": [
    "# Keep this initialization for reproducibility\n",
    "tau0 = 0.5 * np.ones((7, 7))\n",
    "\n",
    "# We run your mean field function\n",
    "tau, d_hist, kl_hist = mean_field(tau0, dist_tol=0.001)\n",
    "\n",
    "# Do NOT change these last lines\n",
    "print(tau)\n",
    "show_matrix(tau)\n",
    "plot_list(d_hist, 'Distance')\n",
    "plot_list(kl_hist, 'KL(q||p) - log(Z_p)')"
   ]
  },
  {
   "cell_type": "markdown",
   "metadata": {
    "id": "BhbQ04-pCR9j"
   },
   "source": [
    "Try $5$ different initializations for $\\tau$ and compute $d(\\hat{\\tau}_s, \\hat{\\mu}_s)$ between the mean field estimated moments $\\hat{\\tau}_s$ and the Gibbs estimates $\\hat{\\mu}_s$. "
   ]
  },
  {
   "cell_type": "code",
   "execution_count": null,
   "metadata": {
    "colab": {
     "base_uri": "https://localhost:8080/"
    },
    "id": "3mapgZ3kCSW_",
    "outputId": "d43c6fdd-2508-4ead-edd9-0ddf9d473810"
   },
   "outputs": [
    {
     "name": "stdout",
     "output_type": "stream",
     "text": [
      "0.006942219117361603\n",
      "0.006942170508944478\n",
      "0.006860462122101601\n",
      "0.006941902702248611\n",
      "0.006942287926335777\n"
     ]
    }
   ],
   "source": [
    "for trial in range(5):\n",
    "    # 1. Random tau init\n",
    "    tau = np.random.rand(7,7)\n",
    "    # 2. Run mean_field with said initialization\n",
    "    tau_res, d_hist, kl_hist = mean_field(tau, dist_tol=0.001)\n",
    "    # 3. Print distance between final (mean field) tau and (Gibbs' estimate) \\hat{mu}\n",
    "    print(distance(tau_res, mu_hat))"
   ]
  },
  {
   "cell_type": "markdown",
   "metadata": {
    "id": "1rUWESO1LGmA"
   },
   "source": [
    "**Question:** Is the mean field a good approximation here? Does it get stuck in different local minima?\n",
    "\n",
    "**Answer:** Mean field is a good approximation here, it converged to the same local minima for our 5 initializations so it does not get stuck in local minima."
   ]
  }
 ],
 "metadata": {
  "colab": {
   "collapsed_sections": [],
   "name": "Copy of hw5_Mahdi_ZAROUR.ipynb",
   "provenance": []
  },
  "kernelspec": {
   "display_name": "Python 3",
   "language": "python",
   "name": "python3"
  },
  "language_info": {
   "codemirror_mode": {
    "name": "ipython",
    "version": 3
   },
   "file_extension": ".py",
   "mimetype": "text/x-python",
   "name": "python",
   "nbconvert_exporter": "python",
   "pygments_lexer": "ipython3",
   "version": "3.7.4"
  }
 },
 "nbformat": 4,
 "nbformat_minor": 1
}
